{
 "cells": [
  {
   "cell_type": "markdown",
   "id": "b089e5f7",
   "metadata": {},
   "source": [
    "## Step 1: Import necessary libraries."
   ]
  },
  {
   "cell_type": "code",
   "execution_count": 1,
   "id": "b54a2398",
   "metadata": {},
   "outputs": [],
   "source": [
    "import numpy as np \n",
    "import seaborn as sns"
   ]
  },
  {
   "cell_type": "markdown",
   "id": "a8a45c0b",
   "metadata": {},
   "source": [
    "## Step 2: Take the data and sort it in ascending order."
   ]
  },
  {
   "cell_type": "code",
   "execution_count": 2,
   "id": "b518bcb4",
   "metadata": {},
   "outputs": [
    {
     "data": {
      "text/plain": [
       "array([ 1,  2,  3,  4,  5,  6, 50])"
      ]
     },
     "execution_count": 2,
     "metadata": {},
     "output_type": "execute_result"
    }
   ],
   "source": [
    "data = [6, 2, 3, 4, 5, 1, 50]\n",
    "sort_data = np.sort(data)\n",
    "sort_data"
   ]
  },
  {
   "cell_type": "markdown",
   "id": "b7022537",
   "metadata": {},
   "source": [
    "### Step 3: Calculate Q1, Q2, Q3 and IQR."
   ]
  },
  {
   "cell_type": "code",
   "execution_count": 3,
   "id": "128b9f14",
   "metadata": {},
   "outputs": [
    {
     "name": "stdout",
     "output_type": "stream",
     "text": [
      "Q1 25 percentile of the given data is,  2.5\n",
      "Q1 50 percentile of the given data is,  4.0\n",
      "Q1 75 percentile of the given data is,  5.5\n",
      "Interquartile range is 3.0\n"
     ]
    }
   ],
   "source": [
    "Q1 = np.percentile(data, 25, interpolation = 'midpoint') \n",
    "Q2 = np.percentile(data, 50, interpolation = 'midpoint') \n",
    "Q3 = np.percentile(data, 75, interpolation = 'midpoint') \n",
    "  \n",
    "print('Q1 25 percentile of the given data is, ', Q1)\n",
    "print('Q1 50 percentile of the given data is, ', Q2)\n",
    "print('Q1 75 percentile of the given data is, ', Q3)\n",
    "  \n",
    "IQR = Q3 - Q1 \n",
    "print('Interquartile range is', IQR)"
   ]
  },
  {
   "cell_type": "markdown",
   "id": "da21a8b6",
   "metadata": {},
   "source": [
    "## Step 4: Find the lower and upper limits as Q1 – 1.5 IQR and Q3 + 1.5 IQR, respectively."
   ]
  },
  {
   "cell_type": "code",
   "execution_count": 4,
   "id": "2bb4a56e",
   "metadata": {},
   "outputs": [
    {
     "name": "stdout",
     "output_type": "stream",
     "text": [
      "low_limit is -2.0\n",
      "up_limit is 10.0\n"
     ]
    }
   ],
   "source": [
    "low_lim = Q1 - 1.5 * IQR\n",
    "up_lim = Q3 + 1.5 * IQR\n",
    "print('low_limit is', low_lim)\n",
    "print('up_limit is', up_lim)"
   ]
  },
  {
   "cell_type": "markdown",
   "id": "289eaefb",
   "metadata": {},
   "source": [
    "## Step 5: Data points greater than the upper limit or less than the lower limit are outliers"
   ]
  },
  {
   "cell_type": "code",
   "execution_count": 5,
   "id": "9dba880c",
   "metadata": {},
   "outputs": [
    {
     "name": "stdout",
     "output_type": "stream",
     "text": [
      " outlier in the dataset is [50]\n"
     ]
    }
   ],
   "source": [
    "outlier =[]\n",
    "for x in data:\n",
    "    if ((x> up_lim) or (x<low_lim)):\n",
    "         outlier.append(x)\n",
    "print(' outlier in the dataset is', outlier)"
   ]
  },
  {
   "cell_type": "markdown",
   "id": "3d781295",
   "metadata": {},
   "source": [
    "### Step 6: Plot the box plot to highlight outliers."
   ]
  },
  {
   "cell_type": "code",
   "execution_count": 6,
   "id": "e6a0af2d",
   "metadata": {},
   "outputs": [
    {
     "name": "stderr",
     "output_type": "stream",
     "text": [
      "/Users/amsavallimylasalam/opt/anaconda3/lib/python3.9/site-packages/seaborn/_decorators.py:36: FutureWarning: Pass the following variable as a keyword arg: x. From version 0.12, the only valid positional argument will be `data`, and passing other arguments without an explicit keyword will result in an error or misinterpretation.\n",
      "  warnings.warn(\n"
     ]
    },
    {
     "data": {
      "text/plain": [
       "<AxesSubplot:>"
      ]
     },
     "execution_count": 6,
     "metadata": {},
     "output_type": "execute_result"
    },
    {
     "data": {
      "image/png": "[encoded data removed]",
      "text/plain": [
       "<Figure size 432x288 with 1 Axes>"
      ]
     },
     "metadata": {
      "needs_background": "light"
     },
     "output_type": "display_data"
    }
   ],
   "source": [
    "sns.boxplot(data)"
   ]
  },
  {
   "cell_type": "markdown",
   "id": "5fd12abf",
   "metadata": {},
   "source": [
    "### Following code can also be used to calculate IQR"
   ]
  },
  {
   "cell_type": "code",
   "execution_count": 7,
   "id": "e261556c",
   "metadata": {},
   "outputs": [
    {
     "data": {
      "text/plain": [
       "3.0"
      ]
     },
     "execution_count": 7,
     "metadata": {},
     "output_type": "execute_result"
    }
   ],
   "source": [
    "from scipy import stats\n",
    "IQR = stats.iqr(data, interpolation = 'midpoint')\n",
    "IQR"
   ]
  },
  {
   "cell_type": "code",
   "execution_count": null,
   "id": "c4784f0c",
   "metadata": {},
   "outputs": [],
   "source": []
  }
 ],
 "metadata": {
  "kernelspec": {
   "display_name": "Python 3 (ipykernel)",
   "language": "python",
   "name": "python3"
  },
  "language_info": {
   "codemirror_mode": {
    "name": "ipython",
    "version": 3
   },
   "file_extension": ".py",
   "mimetype": "text/x-python",
   "name": "python",
   "nbconvert_exporter": "python",
   "pygments_lexer": "ipython3",
   "version": "3.9.12"
  }
 },
 "nbformat": 4,
 "nbformat_minor": 5
}
