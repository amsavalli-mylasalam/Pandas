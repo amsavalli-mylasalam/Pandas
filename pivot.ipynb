{
 "cells": [
  {
   "cell_type": "code",
   "execution_count": 1,
   "id": "9e3f3cfa",
   "metadata": {},
   "outputs": [],
   "source": [
    "import pandas as pd\n"
   ]
  },
  {
   "cell_type": "code",
   "execution_count": 2,
   "id": "8f475833",
   "metadata": {},
   "outputs": [
    {
     "name": "stdout",
     "output_type": "stream",
     "text": [
      "subject  history  math\n",
      "name                  \n",
      "Alice       80.0  85.0\n",
      "Bob         75.0  72.0\n",
      "Charlie      NaN  90.0\n"
     ]
    }
   ],
   "source": [
    "\n",
    "# create a DataFrame\n",
    "data = {'name': ['Alice', 'Bob', 'Charlie', 'Alice', 'Bob'],\n",
    "        'subject': ['math', 'math', 'math', 'history', 'history'],\n",
    "        'score': [85, 72, 90, 80, 75]}\n",
    "df = pd.DataFrame(data)\n",
    "\n",
    "# pivot the data by 'name' and 'subject'\n",
    "pivoted = df.pivot(index='name', columns='subject', values='score')\n",
    "\n",
    "print(pivoted)\n"
   ]
  },
  {
   "cell_type": "code",
   "execution_count": 3,
   "id": "52a199b4",
   "metadata": {},
   "outputs": [
    {
     "name": "stdout",
     "output_type": "stream",
     "text": [
      "[['Alice' 85]\n",
      " ['Bob' 72]\n",
      " ['Charlie' 90]]\n"
     ]
    }
   ],
   "source": [
    "import pandas as pd\n",
    "import numpy as np\n",
    "\n",
    "# create a DataFrame\n",
    "data = {'name': ['Alice', 'Bob', 'Charlie'],\n",
    "        'score': [85, 72, 90]}\n",
    "df = pd.DataFrame(data)\n",
    "\n",
    "# convert the DataFrame to a NumPy array\n",
    "np_array = df.values\n",
    "\n",
    "print(np_array)"
   ]
  },
  {
   "cell_type": "code",
   "execution_count": null,
   "id": "ca83c6ce",
   "metadata": {},
   "outputs": [],
   "source": []
  }
 ],
 "metadata": {
  "kernelspec": {
   "display_name": "Python 3 (ipykernel)",
   "language": "python",
   "name": "python3"
  },
  "language_info": {
   "codemirror_mode": {
    "name": "ipython",
    "version": 3
   },
   "file_extension": ".py",
   "mimetype": "text/x-python",
   "name": "python",
   "nbconvert_exporter": "python",
   "pygments_lexer": "ipython3",
   "version": "3.9.12"
  }
 },
 "nbformat": 4,
 "nbformat_minor": 5
}
